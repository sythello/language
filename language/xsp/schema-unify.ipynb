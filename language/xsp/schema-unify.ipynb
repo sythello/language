{
 "cells": [
  {
   "cell_type": "code",
   "execution_count": 4,
   "id": "495b424a",
   "metadata": {},
   "outputs": [],
   "source": [
    "import os\n",
    "import json\n",
    "\n",
    "from language.xsp.data_preprocessing import spider_preprocessing, wikisql_preprocessing, michigan_preprocessing"
   ]
  },
  {
   "cell_type": "markdown",
   "id": "5d98b318",
   "metadata": {},
   "source": [
    "## Check loaded format"
   ]
  },
  {
   "cell_type": "markdown",
   "id": "c7058b54",
   "metadata": {},
   "source": [
    "### Spider"
   ]
  },
  {
   "cell_type": "code",
   "execution_count": 10,
   "id": "1eab534f",
   "metadata": {},
   "outputs": [],
   "source": [
    "xsp_data_dir = \"/Users/mac/Desktop/syt/Deep-Learning/Repos/Google-Research-Language/language/language/xsp/data\"\n",
    "\n",
    "spider_tables_path = os.path.join(xsp_data_dir, 'spider', 'tables.json')\n",
    "\n",
    "spider_dbs_dict = spider_preprocessing.load_spider_tables(spider_tables_path)"
   ]
  },
  {
   "cell_type": "code",
   "execution_count": 11,
   "id": "4dfd2faf",
   "metadata": {
    "scrolled": true
   },
   "outputs": [
    {
     "data": {
      "text/plain": [
       "(dict_keys(['business', 'category', 'user', 'checkin', 'neighbourhood', 'review', 'tip']),\n",
       " [{'field name': 'bid',\n",
       "   'is primary key': True,\n",
       "   'is foreign key': False,\n",
       "   'type': 'number'},\n",
       "  {'field name': 'business_id',\n",
       "   'is primary key': False,\n",
       "   'is foreign key': True,\n",
       "   'type': 'text'},\n",
       "  {'field name': 'name',\n",
       "   'is primary key': False,\n",
       "   'is foreign key': False,\n",
       "   'type': 'text'},\n",
       "  {'field name': 'full_address',\n",
       "   'is primary key': False,\n",
       "   'is foreign key': False,\n",
       "   'type': 'text'},\n",
       "  {'field name': 'city',\n",
       "   'is primary key': False,\n",
       "   'is foreign key': False,\n",
       "   'type': 'text'},\n",
       "  {'field name': 'latitude',\n",
       "   'is primary key': False,\n",
       "   'is foreign key': False,\n",
       "   'type': 'text'},\n",
       "  {'field name': 'longitude',\n",
       "   'is primary key': False,\n",
       "   'is foreign key': False,\n",
       "   'type': 'text'},\n",
       "  {'field name': 'review_count',\n",
       "   'is primary key': False,\n",
       "   'is foreign key': False,\n",
       "   'type': 'number'},\n",
       "  {'field name': 'is_open',\n",
       "   'is primary key': False,\n",
       "   'is foreign key': False,\n",
       "   'type': 'number'},\n",
       "  {'field name': 'rating',\n",
       "   'is primary key': False,\n",
       "   'is foreign key': False,\n",
       "   'type': 'number'},\n",
       "  {'field name': 'state',\n",
       "   'is primary key': False,\n",
       "   'is foreign key': False,\n",
       "   'type': 'text'}])"
      ]
     },
     "execution_count": 11,
     "metadata": {},
     "output_type": "execute_result"
    }
   ],
   "source": [
    "spider_dbs_dict['yelp'].keys(), spider_dbs_dict['yelp']['business']"
   ]
  },
  {
   "cell_type": "markdown",
   "id": "1c546224",
   "metadata": {},
   "source": [
    "### WikiSQL\n",
    "- Each table is seen as a DB, so it's multi-DB, but each DB has only 1 table"
   ]
  },
  {
   "cell_type": "code",
   "execution_count": 12,
   "id": "b7fe9913",
   "metadata": {},
   "outputs": [],
   "source": [
    "wikisql_tables_path = os.path.join(xsp_data_dir, 'wikisql', 'dev.tables.jsonl')\n",
    "\n",
    "wikisql_dbs_dict = wikisql_preprocessing.load_wikisql_tables(wikisql_tables_path)"
   ]
  },
  {
   "cell_type": "code",
   "execution_count": 19,
   "id": "bd9f00a6",
   "metadata": {},
   "outputs": [
    {
     "data": {
      "text/plain": [
       "(dict_keys(['RACE_RESULTS']),\n",
       " [{'field name': 'RD',\n",
       "   'is primary key': False,\n",
       "   'is foreign key': False,\n",
       "   'type': 'text'},\n",
       "  {'field name': 'RACE',\n",
       "   'is primary key': False,\n",
       "   'is foreign key': False,\n",
       "   'type': 'text'},\n",
       "  {'field name': 'POLE_POSITION',\n",
       "   'is primary key': False,\n",
       "   'is foreign key': False,\n",
       "   'type': 'text'},\n",
       "  {'field name': 'FASTEST_LAP',\n",
       "   'is primary key': False,\n",
       "   'is foreign key': False,\n",
       "   'type': 'text'},\n",
       "  {'field name': 'MOST_LAPS_LED',\n",
       "   'is primary key': False,\n",
       "   'is foreign key': False,\n",
       "   'type': 'text'},\n",
       "  {'field name': 'WINNING_DRIVER',\n",
       "   'is primary key': False,\n",
       "   'is foreign key': False,\n",
       "   'type': 'text'},\n",
       "  {'field name': 'WINNING_TEAM',\n",
       "   'is primary key': False,\n",
       "   'is foreign key': False,\n",
       "   'type': 'text'}])"
      ]
     },
     "execution_count": 19,
     "metadata": {},
     "output_type": "execute_result"
    }
   ],
   "source": [
    "wikisql_dbs_dict['1-29690363-3'].keys(), wikisql_dbs_dict['1-29690363-3']['RACE_RESULTS']"
   ]
  },
  {
   "cell_type": "markdown",
   "id": "d0d1efe7",
   "metadata": {},
   "source": [
    "### Michigan\n",
    "- single DB"
   ]
  },
  {
   "cell_type": "code",
   "execution_count": 20,
   "id": "461caffc",
   "metadata": {},
   "outputs": [],
   "source": [
    "atis_schema_path = os.path.join(xsp_data_dir, 'atis', 'atis_schema.csv')\n",
    "\n",
    "atis_db_dict = michigan_preprocessing.read_schema(atis_schema_path)"
   ]
  },
  {
   "cell_type": "code",
   "execution_count": 23,
   "id": "2a3e2449",
   "metadata": {},
   "outputs": [
    {
     "data": {
      "text/plain": [
       "(dict_keys(['AIRCRAFT', 'AIRLINE', 'AIRPORT', 'AIRPORT_SERVICE', 'CITY', 'CLASS_OF_SERVICE', 'CODE_DESCRIPTION', 'COMPARTMENT_CLASS', 'DATE_DAY', 'DAYS', 'DUAL_CARRIER', 'EQUIPMENT_SEQUENCE', 'FARE', 'FARE_BASIS', 'FLIGHT', 'FLIGHT_FARE', 'FLIGHT_LEG', 'FLIGHT_STOP', 'FOOD_SERVICE', 'GROUND_SERVICE', 'MONTH', 'RESTRICTION', 'STATE', 'TIME_INTERVAL', 'TIME_ZONE']),\n",
       " [{'field name': 'AIRLINE_CODE',\n",
       "   'is primary key': 'n',\n",
       "   'is foreign key': 'y',\n",
       "   'type': 'varchar(2)'},\n",
       "  {'field name': 'AIRLINE_NAME',\n",
       "   'is primary key': 'n',\n",
       "   'is foreign key': 'n',\n",
       "   'type': 'text'},\n",
       "  {'field name': 'NOTE',\n",
       "   'is primary key': 'n',\n",
       "   'is foreign key': 'n',\n",
       "   'type': 'text'}])"
      ]
     },
     "execution_count": 23,
     "metadata": {},
     "output_type": "execute_result"
    }
   ],
   "source": [
    "atis_db_dict.keys(), atis_db_dict['AIRLINE']"
   ]
  },
  {
   "cell_type": "code",
   "execution_count": null,
   "id": "24ac0f01",
   "metadata": {},
   "outputs": [],
   "source": []
  },
  {
   "cell_type": "code",
   "execution_count": null,
   "id": "a739c2b0",
   "metadata": {},
   "outputs": [],
   "source": []
  },
  {
   "cell_type": "code",
   "execution_count": null,
   "id": "a48407f6",
   "metadata": {},
   "outputs": [],
   "source": []
  }
 ],
 "metadata": {
  "kernelspec": {
   "display_name": "Python 3 (ipykernel)",
   "language": "python",
   "name": "python3"
  },
  "language_info": {
   "codemirror_mode": {
    "name": "ipython",
    "version": 3
   },
   "file_extension": ".py",
   "mimetype": "text/x-python",
   "name": "python",
   "nbconvert_exporter": "python",
   "pygments_lexer": "ipython3",
   "version": "3.7.13"
  },
  "toc": {
   "base_numbering": 1,
   "nav_menu": {},
   "number_sections": true,
   "sideBar": true,
   "skip_h1_title": false,
   "title_cell": "Table of Contents",
   "title_sidebar": "Contents",
   "toc_cell": false,
   "toc_position": {},
   "toc_section_display": true,
   "toc_window_display": true
  }
 },
 "nbformat": 4,
 "nbformat_minor": 5
}
